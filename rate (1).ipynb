{
 "cells": [
  {
   "cell_type": "code",
   "execution_count": 28,
   "id": "736c2fd3",
   "metadata": {},
   "outputs": [],
   "source": [
    "import numpy as np\n",
    "# Importing standard Qiskit libraries\n",
    "from qiskit import QuantumCircuit, transpile, Aer, IBMQ\n",
    "from qiskit.tools.jupyter import *\n",
    "from qiskit.visualization import *\n",
    "from ibm_quantum_widgets import *\n"
   ]
  },
  {
   "cell_type": "code",
   "execution_count": 29,
   "id": "8a035e0c",
   "metadata": {},
   "outputs": [],
   "source": [
    "clause3_answer = ['00001000011','00000110100','00001010010','00000010110','00000000111','00000100101','00001110000','00001100001']\n",
    "clause2_answer = ['00000001010010','00000000000111']\n",
    "coloring_answer = ['100110','010001','011000','000100','001000','000110','100010','010010','011001','001001','100001','100100']\n",
    "\n",
    "#\n",
    "answer = coloring_answer\n",
    "\n",
    "#\n",
    "#example:ex = 2,xx1, noiseless (p1)\n",
    "prob_nl=[['100110', 98], ['010001', 87], ['011000', 81], ['000100', 81], ['001000', 81], ['000110', 79], ['100010', 79], ['010010', 77], ['011001', 76], ['001001', 75], ['100001', 73], ['100100', 70], ['010000', 6], ['000011', 4], ['100011', 4], ['001101', 3], ['111100', 3], ['011010', 3], ['111111', 3], ['100101', 3], ['011111', 2], ['000111', 2], ['010101', 2], ['101101', 2], ['111001', 2], ['001100', 2], ['011011', 2], ['101001', 2], ['010011', 2], ['001111', 2], ['011100', 2], ['100000', 1], ['101110', 1], ['000000', 1], ['101111', 1], ['001011', 1], ['001110', 1], ['010110', 1], ['111000', 1], ['101010', 1], ['110000', 1], ['111011', 1], ['110111', 1], ['110110', 1], ['110100', 1], ['000101', 1], ['110001', 1]]\n",
    "#example:ex = 2,xx1 noisy (p3)\n",
    "prob_n=[['100001', 88], ['001000', 86], ['100100', 85], ['100110', 78], ['001001', 78], ['100010', 76], ['011001', 75], ['010010', 71], ['010001', 70], ['011000', 68], ['000100', 64], ['000110', 57], ['011101', 7], ['001100', 5], ['110010', 5], ['111000', 5], ['010100', 5], ['000111', 5], ['111100', 4], ['100101', 4], ['011010', 4], ['110110', 3], ['111001', 3], ['100000', 3], ['101110', 3], ['100111', 3], ['111110', 3], ['101101', 2], ['011011', 2], ['110000', 2], ['100011', 2], ['000000', 2], ['010000', 2], ['010110', 2], ['011111', 2], ['000010', 2], ['011100', 2], ['110001', 2], ['000001', 2], ['101010', 2], ['010011', 2], ['001101', 1], ['001011', 1], ['101001', 1], ['001110', 1], ['101000', 1], ['000011', 1], ['110101', 1], ['101100', 1], ['010101', 1], ['110011', 1], ['111111', 1], ['001010', 1], ['110111', 1], ['110100', 1]]\n"
   ]
  },
  {
   "cell_type": "code",
   "execution_count": 30,
   "id": "49209dbf",
   "metadata": {},
   "outputs": [
    {
     "name": "stdout",
     "output_type": "stream",
     "text": [
      "noiseless\n",
      "successful_case: 957\n",
      "total_case: 1024\n",
      "successful_rate: 0.9345703125\n"
     ]
    }
   ],
   "source": [
    "k = []\n",
    "l = []\n",
    "m = []\n",
    "for i in range(len(prob_nl)):\n",
    "    k = prob_nl[i]\n",
    "    l.append(k[0])\n",
    "    m.append(k[1])\n",
    "\n",
    "tt = 0    \n",
    "successful_case = 0\n",
    "total_case = 0\n",
    "for i in range(len(l)):\n",
    "    total_case += m[i]\n",
    "for i in range(len(answer)):\n",
    "    if (answer[i] in l):\n",
    "        tt = l.index(answer[i])\n",
    "        successful_case += m[tt]\n",
    "print(\"noiseless\")\n",
    "print(\"successful_case:\",successful_case)\n",
    "print(\"total_case:\",total_case)\n",
    "print(\"successful_rate:\",successful_case/total_case)"
   ]
  },
  {
   "cell_type": "code",
   "execution_count": 31,
   "id": "0807c873",
   "metadata": {},
   "outputs": [
    {
     "name": "stdout",
     "output_type": "stream",
     "text": [
      "noisy\n",
      "successful_case: 896\n",
      "total_case: 1000\n",
      "successful_rate: 0.896\n"
     ]
    }
   ],
   "source": [
    "kk = []\n",
    "ll = []\n",
    "mm = []\n",
    "for i in range(len(prob_n)):\n",
    "    kk = prob_n[i]\n",
    "    ll.append(kk[0])\n",
    "    mm.append(kk[1])\n",
    "\n",
    "ttt = 0    \n",
    "successful_case_n = 0\n",
    "total_case_n = 0\n",
    "for i in range(len(ll)):\n",
    "    total_case_n += mm[i]\n",
    "for i in range(len(answer)):\n",
    "    if (answer[i] in ll):\n",
    "        ttt = ll.index(answer[i])\n",
    "        successful_case_n += mm[ttt]\n",
    "print(\"noisy\")\n",
    "print(\"successful_case:\",successful_case_n)\n",
    "print(\"total_case:\",total_case_n)\n",
    "print(\"successful_rate:\",successful_case_n/total_case_n)"
   ]
  },
  {
   "cell_type": "code",
   "execution_count": null,
   "id": "a97be66a",
   "metadata": {},
   "outputs": [],
   "source": []
  }
 ],
 "metadata": {
  "kernelspec": {
   "display_name": "Python 3",
   "language": "python",
   "name": "python3"
  },
  "language_info": {
   "codemirror_mode": {
    "name": "ipython",
    "version": 3
   },
   "file_extension": ".py",
   "mimetype": "text/x-python",
   "name": "python",
   "nbconvert_exporter": "python",
   "pygments_lexer": "ipython3",
   "version": "3.8.10"
  }
 },
 "nbformat": 4,
 "nbformat_minor": 5
}
