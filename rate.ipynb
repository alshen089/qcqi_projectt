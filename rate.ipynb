{
 "cells": [
  {
   "cell_type": "code",
   "execution_count": 17,
   "id": "52508163",
   "metadata": {},
   "outputs": [],
   "source": [
    "import numpy as np\n",
    "# Importing standard Qiskit libraries\n",
    "from qiskit import QuantumCircuit, transpile, Aer, IBMQ\n",
    "from qiskit.tools.jupyter import *\n",
    "from qiskit.visualization import *\n",
    "from ibm_quantum_widgets import *\n"
   ]
  },
  {
   "cell_type": "code",
   "execution_count": 18,
   "id": "a3040145",
   "metadata": {},
   "outputs": [],
   "source": [
    "clause3_answer = ['00001000011','00000110100','00001010010','00000010110','00000000111','00000100101','00001110000','00001100001']\n",
    "clause2_answer = ['00000001010010','00000000000111']\n",
    "\n",
    "#\n",
    "answer = clause3_answer\n",
    "\n",
    "#\n",
    "#example:clau = 3, noiseless (p1)\n",
    "prob_nl=[['00001000011', 134], ['00000110100', 132], ['00001010010', 130], ['00000010110', 129], ['00000000111', 126], ['00000100101', 125], ['00001110000', 124], ['00001100001', 122], ['00010000000', 1], ['00000000000', 1]]\n",
    "#example:clau = 3, noisy (p3)\n",
    "prob_n=[['00001000011', 134], ['00000110100', 125], ['00000000111', 117], ['00001010010', 113], ['00001110000', 113], ['00000010110', 108], ['00001100001', 105], ['00000100101', 101], ['00000000101', 6], ['00001100011', 5], ['00001010110', 5], ['00000010100', 5], ['00001110100', 4], ['00001000111', 4], ['00001110001', 4], ['00000100100', 4], ['00000110110', 3], ['00000011110', 3], ['00001100000', 3], ['00001110010', 3], ['00000100001', 3], ['00000000011', 3], ['00000010111', 3], ['00001000010', 2], ['00001100101', 2], ['00000010010', 2], ['00000001111', 2], ['00001010000', 2], ['00000000110', 2], ['00011000011', 2], ['00010110100', 1], ['00000110000', 1], ['00001111000', 1], ['00011100001', 1], ['00001001011', 1], ['00000100111', 1], ['00010111111', 1], ['00001111001', 1], ['00010101101', 1], ['00010010110', 1], ['00000110111', 1], ['00001000001', 1]]\n"
   ]
  },
  {
   "cell_type": "code",
   "execution_count": 22,
   "id": "7b32dce1",
   "metadata": {},
   "outputs": [
    {
     "name": "stdout",
     "output_type": "stream",
     "text": [
      "noiseless\n",
      "successful_case: 1022\n",
      "total_case: 1024\n",
      "successful_rate: 0.998046875\n"
     ]
    }
   ],
   "source": [
    "k = []\n",
    "l = []\n",
    "m = []\n",
    "for i in range(len(prob_nl)):\n",
    "    k = prob_nl[i]\n",
    "    l.append(k[0])\n",
    "    m.append(k[1])\n",
    "\n",
    "tt = 0    \n",
    "successful_case = 0\n",
    "total_case = 0\n",
    "for i in range(len(l)):\n",
    "    total_case += m[i]\n",
    "for i in range(len(answer)):\n",
    "    if (answer[i] in l):\n",
    "        tt = l.index(answer[i])\n",
    "        successful_case += m[tt]\n",
    "print(\"noiseless\")\n",
    "print(\"successful_case:\",successful_case)\n",
    "print(\"total_case:\",total_case)\n",
    "print(\"successful_rate:\",successful_case/total_case)"
   ]
  },
  {
   "cell_type": "code",
   "execution_count": 23,
   "id": "595cf21b",
   "metadata": {},
   "outputs": [
    {
     "name": "stdout",
     "output_type": "stream",
     "text": [
      "noisy\n",
      "successful_case: 916\n",
      "total_case: 1000\n",
      "successful_rate: 0.916\n"
     ]
    }
   ],
   "source": [
    "kk = []\n",
    "ll = []\n",
    "mm = []\n",
    "for i in range(len(prob_n)):\n",
    "    kk = prob_n[i]\n",
    "    ll.append(kk[0])\n",
    "    mm.append(kk[1])\n",
    "\n",
    "ttt = 0    \n",
    "successful_case_n = 0\n",
    "total_case_n = 0\n",
    "for i in range(len(ll)):\n",
    "    total_case_n += mm[i]\n",
    "for i in range(len(answer)):\n",
    "    if (answer[i] in ll):\n",
    "        ttt = ll.index(answer[i])\n",
    "        successful_case_n += mm[ttt]\n",
    "print(\"noisy\")\n",
    "print(\"successful_case:\",successful_case_n)\n",
    "print(\"total_case:\",total_case_n)\n",
    "print(\"successful_rate:\",successful_case_n/total_case_n)"
   ]
  },
  {
   "cell_type": "code",
   "execution_count": null,
   "id": "7e2110b4",
   "metadata": {},
   "outputs": [],
   "source": []
  }
 ],
 "metadata": {
  "kernelspec": {
   "display_name": "Python 3",
   "language": "python",
   "name": "python3"
  },
  "language_info": {
   "codemirror_mode": {
    "name": "ipython",
    "version": 3
   },
   "file_extension": ".py",
   "mimetype": "text/x-python",
   "name": "python",
   "nbconvert_exporter": "python",
   "pygments_lexer": "ipython3",
   "version": "3.8.10"
  }
 },
 "nbformat": 4,
 "nbformat_minor": 5
}
